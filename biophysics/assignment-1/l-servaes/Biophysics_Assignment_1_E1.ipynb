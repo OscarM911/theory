{
  "nbformat": 4,
  "nbformat_minor": 0,
  "metadata": {
    "colab": {
      "provenance": [],
      "collapsed_sections": [
        "VOuMsJCW4k_K"
      ]
    },
    "kernelspec": {
      "name": "python3",
      "display_name": "Python 3"
    },
    "language_info": {
      "name": "python"
    },
    "widgets": {
      "application/vnd.jupyter.widget-state+json": {
        "f42a1b4681294f2abf7b0ebd8592906e": {
          "model_module": "@jupyter-widgets/controls",
          "model_name": "VBoxModel",
          "model_module_version": "1.5.0",
          "state": {
            "_dom_classes": [],
            "_model_module": "@jupyter-widgets/controls",
            "_model_module_version": "1.5.0",
            "_model_name": "VBoxModel",
            "_view_count": null,
            "_view_module": "@jupyter-widgets/controls",
            "_view_module_version": "1.5.0",
            "_view_name": "VBoxView",
            "box_style": "",
            "children": [
              "IPY_MODEL_026d03e8451847c0b827e30f481a7f40",
              "IPY_MODEL_700c011f9d654437b6269cebda4e45ce"
            ],
            "layout": "IPY_MODEL_33a4904217c24766824f5898fcc5c043"
          }
        },
        "026d03e8451847c0b827e30f481a7f40": {
          "model_module": "@jupyter-widgets/controls",
          "model_name": "HBoxModel",
          "model_module_version": "1.5.0",
          "state": {
            "_dom_classes": [],
            "_model_module": "@jupyter-widgets/controls",
            "_model_module_version": "1.5.0",
            "_model_name": "HBoxModel",
            "_view_count": null,
            "_view_module": "@jupyter-widgets/controls",
            "_view_module_version": "1.5.0",
            "_view_name": "HBoxView",
            "box_style": "",
            "children": [
              "IPY_MODEL_afefeca134314770933fdc88326bc82f",
              "IPY_MODEL_e67a10cd9c8948c0a6560b323abb4e45"
            ],
            "layout": "IPY_MODEL_f807a3b4a42147ae831cecfe21b29820"
          }
        },
        "700c011f9d654437b6269cebda4e45ce": {
          "model_module": "@jupyter-widgets/controls",
          "model_name": "HBoxModel",
          "model_module_version": "1.5.0",
          "state": {
            "_dom_classes": [],
            "_model_module": "@jupyter-widgets/controls",
            "_model_module_version": "1.5.0",
            "_model_name": "HBoxModel",
            "_view_count": null,
            "_view_module": "@jupyter-widgets/controls",
            "_view_module_version": "1.5.0",
            "_view_name": "HBoxView",
            "box_style": "",
            "children": [
              "IPY_MODEL_9a9159bd42dd41e382bff35318b2a312",
              "IPY_MODEL_323153926c2843038bbd9cb6cc067ea0",
              "IPY_MODEL_90a4bda9c978401ab0738b5309a27d8d"
            ],
            "layout": "IPY_MODEL_94affcddb4cc42efaf76b2ae3a5a306a"
          }
        },
        "33a4904217c24766824f5898fcc5c043": {
          "model_module": "@jupyter-widgets/base",
          "model_name": "LayoutModel",
          "model_module_version": "1.2.0",
          "state": {
            "_model_module": "@jupyter-widgets/base",
            "_model_module_version": "1.2.0",
            "_model_name": "LayoutModel",
            "_view_count": null,
            "_view_module": "@jupyter-widgets/base",
            "_view_module_version": "1.2.0",
            "_view_name": "LayoutView",
            "align_content": null,
            "align_items": null,
            "align_self": null,
            "border": null,
            "bottom": null,
            "display": null,
            "flex": null,
            "flex_flow": null,
            "grid_area": null,
            "grid_auto_columns": null,
            "grid_auto_flow": null,
            "grid_auto_rows": null,
            "grid_column": null,
            "grid_gap": null,
            "grid_row": null,
            "grid_template_areas": null,
            "grid_template_columns": null,
            "grid_template_rows": null,
            "height": null,
            "justify_content": null,
            "justify_items": null,
            "left": null,
            "margin": null,
            "max_height": null,
            "max_width": null,
            "min_height": null,
            "min_width": null,
            "object_fit": null,
            "object_position": null,
            "order": null,
            "overflow": null,
            "overflow_x": null,
            "overflow_y": null,
            "padding": null,
            "right": null,
            "top": null,
            "visibility": null,
            "width": null
          }
        },
        "afefeca134314770933fdc88326bc82f": {
          "model_module": "@jupyter-widgets/controls",
          "model_name": "DropdownModel",
          "model_module_version": "1.5.0",
          "state": {
            "_dom_classes": [],
            "_model_module": "@jupyter-widgets/controls",
            "_model_module_version": "1.5.0",
            "_model_name": "DropdownModel",
            "_options_labels": [
              "Equation 1",
              "Equation 2",
              "Equation 3",
              "Equation 4"
            ],
            "_view_count": null,
            "_view_module": "@jupyter-widgets/controls",
            "_view_module_version": "1.5.0",
            "_view_name": "DropdownView",
            "description": "",
            "description_tooltip": null,
            "disabled": false,
            "index": 3,
            "layout": "IPY_MODEL_705aece465844f0491d07ed354fa8afd",
            "style": "IPY_MODEL_550458219beb41a6836dd41f4dfbb84d"
          }
        },
        "e67a10cd9c8948c0a6560b323abb4e45": {
          "model_module": "@jupyter-widgets/controls",
          "model_name": "ToggleButtonsModel",
          "model_module_version": "1.5.0",
          "state": {
            "_dom_classes": [],
            "_model_module": "@jupyter-widgets/controls",
            "_model_module_version": "1.5.0",
            "_model_name": "ToggleButtonsModel",
            "_options_labels": [
              "Low",
              "Medium",
              "High"
            ],
            "_view_count": null,
            "_view_module": "@jupyter-widgets/controls",
            "_view_module_version": "1.5.0",
            "_view_name": "ToggleButtonsView",
            "button_style": "info",
            "description": "",
            "description_tooltip": null,
            "disabled": false,
            "icons": [],
            "index": 0,
            "layout": "IPY_MODEL_bcfc35ca40c2465da815e72a4504542f",
            "style": "IPY_MODEL_6e36d3dc0f9f4bce83fd71eef4c904d6",
            "tooltips": []
          }
        },
        "f807a3b4a42147ae831cecfe21b29820": {
          "model_module": "@jupyter-widgets/base",
          "model_name": "LayoutModel",
          "model_module_version": "1.2.0",
          "state": {
            "_model_module": "@jupyter-widgets/base",
            "_model_module_version": "1.2.0",
            "_model_name": "LayoutModel",
            "_view_count": null,
            "_view_module": "@jupyter-widgets/base",
            "_view_module_version": "1.2.0",
            "_view_name": "LayoutView",
            "align_content": null,
            "align_items": null,
            "align_self": null,
            "border": null,
            "bottom": null,
            "display": null,
            "flex": null,
            "flex_flow": null,
            "grid_area": null,
            "grid_auto_columns": null,
            "grid_auto_flow": null,
            "grid_auto_rows": null,
            "grid_column": null,
            "grid_gap": null,
            "grid_row": null,
            "grid_template_areas": null,
            "grid_template_columns": null,
            "grid_template_rows": null,
            "height": null,
            "justify_content": null,
            "justify_items": null,
            "left": null,
            "margin": null,
            "max_height": null,
            "max_width": null,
            "min_height": null,
            "min_width": null,
            "object_fit": null,
            "object_position": null,
            "order": null,
            "overflow": null,
            "overflow_x": null,
            "overflow_y": null,
            "padding": null,
            "right": null,
            "top": null,
            "visibility": null,
            "width": null
          }
        },
        "9a9159bd42dd41e382bff35318b2a312": {
          "model_module": "@jupyter-widgets/controls",
          "model_name": "CheckboxModel",
          "model_module_version": "1.5.0",
          "state": {
            "_dom_classes": [],
            "_model_module": "@jupyter-widgets/controls",
            "_model_module_version": "1.5.0",
            "_model_name": "CheckboxModel",
            "_view_count": null,
            "_view_module": "@jupyter-widgets/controls",
            "_view_module_version": "1.5.0",
            "_view_name": "CheckboxView",
            "description": "Display Stability Arrows",
            "description_tooltip": null,
            "disabled": false,
            "indent": false,
            "layout": "IPY_MODEL_f2fded71dc6140d6a9e707d91f9eaf23",
            "style": "IPY_MODEL_e2ed9da76698498196cfa8e897d56e56",
            "value": false
          }
        },
        "323153926c2843038bbd9cb6cc067ea0": {
          "model_module": "@jupyter-widgets/controls",
          "model_name": "LabelModel",
          "model_module_version": "1.5.0",
          "state": {
            "_dom_classes": [],
            "_model_module": "@jupyter-widgets/controls",
            "_model_module_version": "1.5.0",
            "_model_name": "LabelModel",
            "_view_count": null,
            "_view_module": "@jupyter-widgets/controls",
            "_view_module_version": "1.5.0",
            "_view_name": "LabelView",
            "description": "",
            "description_tooltip": null,
            "layout": "IPY_MODEL_3432d9491bb24bc997c34dc8c76379f4",
            "placeholder": "​",
            "style": "IPY_MODEL_0692e81059734f2da9952f73486623fc",
            "value": "Resolution settings (left plot only).    'Low' is recommended for fast plotting."
          }
        },
        "90a4bda9c978401ab0738b5309a27d8d": {
          "model_module": "@jupyter-widgets/controls",
          "model_name": "FloatSliderModel",
          "model_module_version": "1.5.0",
          "state": {
            "_dom_classes": [],
            "_model_module": "@jupyter-widgets/controls",
            "_model_module_version": "1.5.0",
            "_model_name": "FloatSliderModel",
            "_view_count": null,
            "_view_module": "@jupyter-widgets/controls",
            "_view_module_version": "1.5.0",
            "_view_name": "FloatSliderView",
            "continuous_update": false,
            "description": "r",
            "description_tooltip": null,
            "disabled": false,
            "layout": "IPY_MODEL_9646521bc01547cc8b836b2e32957ba6",
            "max": 2.5,
            "min": -1,
            "orientation": "horizontal",
            "readout": true,
            "readout_format": ".2f",
            "step": 0.05,
            "style": "IPY_MODEL_fd1a9efbfaf94cf7bfa109a2243508ec",
            "value": 2
          }
        },
        "94affcddb4cc42efaf76b2ae3a5a306a": {
          "model_module": "@jupyter-widgets/base",
          "model_name": "LayoutModel",
          "model_module_version": "1.2.0",
          "state": {
            "_model_module": "@jupyter-widgets/base",
            "_model_module_version": "1.2.0",
            "_model_name": "LayoutModel",
            "_view_count": null,
            "_view_module": "@jupyter-widgets/base",
            "_view_module_version": "1.2.0",
            "_view_name": "LayoutView",
            "align_content": null,
            "align_items": null,
            "align_self": null,
            "border": null,
            "bottom": null,
            "display": null,
            "flex": null,
            "flex_flow": null,
            "grid_area": null,
            "grid_auto_columns": null,
            "grid_auto_flow": null,
            "grid_auto_rows": null,
            "grid_column": null,
            "grid_gap": null,
            "grid_row": null,
            "grid_template_areas": null,
            "grid_template_columns": null,
            "grid_template_rows": null,
            "height": null,
            "justify_content": null,
            "justify_items": null,
            "left": null,
            "margin": null,
            "max_height": null,
            "max_width": null,
            "min_height": null,
            "min_width": null,
            "object_fit": null,
            "object_position": null,
            "order": null,
            "overflow": null,
            "overflow_x": null,
            "overflow_y": null,
            "padding": null,
            "right": null,
            "top": null,
            "visibility": null,
            "width": null
          }
        },
        "705aece465844f0491d07ed354fa8afd": {
          "model_module": "@jupyter-widgets/base",
          "model_name": "LayoutModel",
          "model_module_version": "1.2.0",
          "state": {
            "_model_module": "@jupyter-widgets/base",
            "_model_module_version": "1.2.0",
            "_model_name": "LayoutModel",
            "_view_count": null,
            "_view_module": "@jupyter-widgets/base",
            "_view_module_version": "1.2.0",
            "_view_name": "LayoutView",
            "align_content": null,
            "align_items": null,
            "align_self": null,
            "border": null,
            "bottom": null,
            "display": null,
            "flex": null,
            "flex_flow": null,
            "grid_area": null,
            "grid_auto_columns": null,
            "grid_auto_flow": null,
            "grid_auto_rows": null,
            "grid_column": null,
            "grid_gap": null,
            "grid_row": null,
            "grid_template_areas": null,
            "grid_template_columns": null,
            "grid_template_rows": null,
            "height": null,
            "justify_content": null,
            "justify_items": null,
            "left": null,
            "margin": null,
            "max_height": null,
            "max_width": null,
            "min_height": null,
            "min_width": null,
            "object_fit": null,
            "object_position": null,
            "order": null,
            "overflow": null,
            "overflow_x": null,
            "overflow_y": null,
            "padding": "2px",
            "right": null,
            "top": null,
            "visibility": null,
            "width": "180px"
          }
        },
        "550458219beb41a6836dd41f4dfbb84d": {
          "model_module": "@jupyter-widgets/controls",
          "model_name": "DescriptionStyleModel",
          "model_module_version": "1.5.0",
          "state": {
            "_model_module": "@jupyter-widgets/controls",
            "_model_module_version": "1.5.0",
            "_model_name": "DescriptionStyleModel",
            "_view_count": null,
            "_view_module": "@jupyter-widgets/base",
            "_view_module_version": "1.2.0",
            "_view_name": "StyleView",
            "description_width": ""
          }
        },
        "bcfc35ca40c2465da815e72a4504542f": {
          "model_module": "@jupyter-widgets/base",
          "model_name": "LayoutModel",
          "model_module_version": "1.2.0",
          "state": {
            "_model_module": "@jupyter-widgets/base",
            "_model_module_version": "1.2.0",
            "_model_name": "LayoutModel",
            "_view_count": null,
            "_view_module": "@jupyter-widgets/base",
            "_view_module_version": "1.2.0",
            "_view_name": "LayoutView",
            "align_content": null,
            "align_items": null,
            "align_self": null,
            "border": null,
            "bottom": null,
            "display": null,
            "flex": null,
            "flex_flow": null,
            "grid_area": null,
            "grid_auto_columns": null,
            "grid_auto_flow": null,
            "grid_auto_rows": null,
            "grid_column": null,
            "grid_gap": null,
            "grid_row": null,
            "grid_template_areas": null,
            "grid_template_columns": null,
            "grid_template_rows": null,
            "height": null,
            "justify_content": null,
            "justify_items": null,
            "left": null,
            "margin": null,
            "max_height": null,
            "max_width": null,
            "min_height": null,
            "min_width": null,
            "object_fit": null,
            "object_position": null,
            "order": null,
            "overflow": null,
            "overflow_x": null,
            "overflow_y": null,
            "padding": "2px",
            "right": null,
            "top": null,
            "visibility": null,
            "width": null
          }
        },
        "6e36d3dc0f9f4bce83fd71eef4c904d6": {
          "model_module": "@jupyter-widgets/controls",
          "model_name": "ToggleButtonsStyleModel",
          "model_module_version": "1.5.0",
          "state": {
            "_model_module": "@jupyter-widgets/controls",
            "_model_module_version": "1.5.0",
            "_model_name": "ToggleButtonsStyleModel",
            "_view_count": null,
            "_view_module": "@jupyter-widgets/base",
            "_view_module_version": "1.2.0",
            "_view_name": "StyleView",
            "button_width": "",
            "description_width": "",
            "font_weight": ""
          }
        },
        "f2fded71dc6140d6a9e707d91f9eaf23": {
          "model_module": "@jupyter-widgets/base",
          "model_name": "LayoutModel",
          "model_module_version": "1.2.0",
          "state": {
            "_model_module": "@jupyter-widgets/base",
            "_model_module_version": "1.2.0",
            "_model_name": "LayoutModel",
            "_view_count": null,
            "_view_module": "@jupyter-widgets/base",
            "_view_module_version": "1.2.0",
            "_view_name": "LayoutView",
            "align_content": null,
            "align_items": null,
            "align_self": null,
            "border": null,
            "bottom": null,
            "display": null,
            "flex": null,
            "flex_flow": null,
            "grid_area": null,
            "grid_auto_columns": null,
            "grid_auto_flow": null,
            "grid_auto_rows": null,
            "grid_column": null,
            "grid_gap": null,
            "grid_row": null,
            "grid_template_areas": null,
            "grid_template_columns": null,
            "grid_template_rows": null,
            "height": null,
            "justify_content": null,
            "justify_items": null,
            "left": null,
            "margin": null,
            "max_height": null,
            "max_width": null,
            "min_height": null,
            "min_width": null,
            "object_fit": null,
            "object_position": null,
            "order": null,
            "overflow": null,
            "overflow_x": null,
            "overflow_y": null,
            "padding": null,
            "right": null,
            "top": null,
            "visibility": null,
            "width": "180px"
          }
        },
        "e2ed9da76698498196cfa8e897d56e56": {
          "model_module": "@jupyter-widgets/controls",
          "model_name": "DescriptionStyleModel",
          "model_module_version": "1.5.0",
          "state": {
            "_model_module": "@jupyter-widgets/controls",
            "_model_module_version": "1.5.0",
            "_model_name": "DescriptionStyleModel",
            "_view_count": null,
            "_view_module": "@jupyter-widgets/base",
            "_view_module_version": "1.2.0",
            "_view_name": "StyleView",
            "description_width": ""
          }
        },
        "3432d9491bb24bc997c34dc8c76379f4": {
          "model_module": "@jupyter-widgets/base",
          "model_name": "LayoutModel",
          "model_module_version": "1.2.0",
          "state": {
            "_model_module": "@jupyter-widgets/base",
            "_model_module_version": "1.2.0",
            "_model_name": "LayoutModel",
            "_view_count": null,
            "_view_module": "@jupyter-widgets/base",
            "_view_module_version": "1.2.0",
            "_view_name": "LayoutView",
            "align_content": null,
            "align_items": null,
            "align_self": null,
            "border": null,
            "bottom": null,
            "display": null,
            "flex": null,
            "flex_flow": null,
            "grid_area": null,
            "grid_auto_columns": null,
            "grid_auto_flow": null,
            "grid_auto_rows": null,
            "grid_column": null,
            "grid_gap": null,
            "grid_row": null,
            "grid_template_areas": null,
            "grid_template_columns": null,
            "grid_template_rows": null,
            "height": null,
            "justify_content": null,
            "justify_items": null,
            "left": null,
            "margin": null,
            "max_height": null,
            "max_width": null,
            "min_height": null,
            "min_width": null,
            "object_fit": null,
            "object_position": null,
            "order": null,
            "overflow": null,
            "overflow_x": null,
            "overflow_y": null,
            "padding": null,
            "right": null,
            "top": null,
            "visibility": null,
            "width": null
          }
        },
        "0692e81059734f2da9952f73486623fc": {
          "model_module": "@jupyter-widgets/controls",
          "model_name": "DescriptionStyleModel",
          "model_module_version": "1.5.0",
          "state": {
            "_model_module": "@jupyter-widgets/controls",
            "_model_module_version": "1.5.0",
            "_model_name": "DescriptionStyleModel",
            "_view_count": null,
            "_view_module": "@jupyter-widgets/base",
            "_view_module_version": "1.2.0",
            "_view_name": "StyleView",
            "description_width": ""
          }
        },
        "9646521bc01547cc8b836b2e32957ba6": {
          "model_module": "@jupyter-widgets/base",
          "model_name": "LayoutModel",
          "model_module_version": "1.2.0",
          "state": {
            "_model_module": "@jupyter-widgets/base",
            "_model_module_version": "1.2.0",
            "_model_name": "LayoutModel",
            "_view_count": null,
            "_view_module": "@jupyter-widgets/base",
            "_view_module_version": "1.2.0",
            "_view_name": "LayoutView",
            "align_content": null,
            "align_items": null,
            "align_self": null,
            "border": null,
            "bottom": null,
            "display": null,
            "flex": null,
            "flex_flow": null,
            "grid_area": null,
            "grid_auto_columns": null,
            "grid_auto_flow": null,
            "grid_auto_rows": null,
            "grid_column": null,
            "grid_gap": null,
            "grid_row": null,
            "grid_template_areas": null,
            "grid_template_columns": null,
            "grid_template_rows": null,
            "height": null,
            "justify_content": null,
            "justify_items": null,
            "left": null,
            "margin": null,
            "max_height": null,
            "max_width": null,
            "min_height": null,
            "min_width": null,
            "object_fit": null,
            "object_position": null,
            "order": null,
            "overflow": null,
            "overflow_x": null,
            "overflow_y": null,
            "padding": null,
            "right": null,
            "top": null,
            "visibility": null,
            "width": "400px"
          }
        },
        "fd1a9efbfaf94cf7bfa109a2243508ec": {
          "model_module": "@jupyter-widgets/controls",
          "model_name": "SliderStyleModel",
          "model_module_version": "1.5.0",
          "state": {
            "_model_module": "@jupyter-widgets/controls",
            "_model_module_version": "1.5.0",
            "_model_name": "SliderStyleModel",
            "_view_count": null,
            "_view_module": "@jupyter-widgets/base",
            "_view_module_version": "1.2.0",
            "_view_name": "StyleView",
            "description_width": "",
            "handle_color": null
          }
        },
        "b18bdfd6423b4a34a1d688aff8729e85": {
          "model_module": "jupyter-matplotlib",
          "model_name": "MPLCanvasModel",
          "model_module_version": "^0.11",
          "state": {
            "_cursor": "default",
            "_data_url": "data:image/png;base64,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",
            "_dom_classes": [],
            "_figure_label": "Figure 2",
            "_image_mode": "diff",
            "_message": "",
            "_model_module": "jupyter-matplotlib",
            "_model_module_version": "^0.11",
            "_model_name": "MPLCanvasModel",
            "_rubberband_height": 0,
            "_rubberband_width": 0,
            "_rubberband_x": 0,
            "_rubberband_y": 0,
            "_size": [
              1000,
              500
            ],
            "_view_count": null,
            "_view_module": "jupyter-matplotlib",
            "_view_module_version": "^0.11",
            "_view_name": "MPLCanvasView",
            "capture_scroll": false,
            "footer_visible": true,
            "header_visible": true,
            "layout": "IPY_MODEL_e12f3a193c8d40fe9eb463330b67735a",
            "pan_zoom_throttle": 33,
            "resizable": true,
            "toolbar": "IPY_MODEL_797786e4a45f46db97bffde101e025d1",
            "toolbar_position": "left",
            "toolbar_visible": "fade-in-fade-out"
          }
        },
        "e12f3a193c8d40fe9eb463330b67735a": {
          "model_module": "@jupyter-widgets/base",
          "model_name": "LayoutModel",
          "model_module_version": "1.2.0",
          "state": {
            "_model_module": "@jupyter-widgets/base",
            "_model_module_version": "1.2.0",
            "_model_name": "LayoutModel",
            "_view_count": null,
            "_view_module": "@jupyter-widgets/base",
            "_view_module_version": "1.2.0",
            "_view_name": "LayoutView",
            "align_content": null,
            "align_items": null,
            "align_self": null,
            "border": null,
            "bottom": null,
            "display": null,
            "flex": null,
            "flex_flow": null,
            "grid_area": null,
            "grid_auto_columns": null,
            "grid_auto_flow": null,
            "grid_auto_rows": null,
            "grid_column": null,
            "grid_gap": null,
            "grid_row": null,
            "grid_template_areas": null,
            "grid_template_columns": null,
            "grid_template_rows": null,
            "height": null,
            "justify_content": null,
            "justify_items": null,
            "left": null,
            "margin": null,
            "max_height": null,
            "max_width": null,
            "min_height": null,
            "min_width": null,
            "object_fit": null,
            "object_position": null,
            "order": null,
            "overflow": null,
            "overflow_x": null,
            "overflow_y": null,
            "padding": null,
            "right": null,
            "top": null,
            "visibility": null,
            "width": null
          }
        },
        "797786e4a45f46db97bffde101e025d1": {
          "model_module": "jupyter-matplotlib",
          "model_name": "ToolbarModel",
          "model_module_version": "^0.11",
          "state": {
            "_current_action": "",
            "_dom_classes": [],
            "_model_module": "jupyter-matplotlib",
            "_model_module_version": "^0.11",
            "_model_name": "ToolbarModel",
            "_view_count": null,
            "_view_module": "jupyter-matplotlib",
            "_view_module_version": "^0.11",
            "_view_name": "ToolbarView",
            "button_style": "",
            "collapsed": true,
            "layout": "IPY_MODEL_b1e74f38ae1d4542a9a049d961db867b",
            "orientation": "vertical",
            "toolitems": [
              [
                "Home",
                "Reset original view",
                "home",
                "home"
              ],
              [
                "Back",
                "Back to previous view",
                "arrow-left",
                "back"
              ],
              [
                "Forward",
                "Forward to next view",
                "arrow-right",
                "forward"
              ],
              [
                "Pan",
                "Left button pans, Right button zooms\nx/y fixes axis, CTRL fixes aspect",
                "arrows",
                "pan"
              ],
              [
                "Zoom",
                "Zoom to rectangle\nx/y fixes axis",
                "square-o",
                "zoom"
              ],
              [
                "Download",
                "Download plot",
                "floppy-o",
                "save_figure"
              ]
            ]
          }
        },
        "b1e74f38ae1d4542a9a049d961db867b": {
          "model_module": "@jupyter-widgets/base",
          "model_name": "LayoutModel",
          "model_module_version": "1.2.0",
          "state": {
            "_model_module": "@jupyter-widgets/base",
            "_model_module_version": "1.2.0",
            "_model_name": "LayoutModel",
            "_view_count": null,
            "_view_module": "@jupyter-widgets/base",
            "_view_module_version": "1.2.0",
            "_view_name": "LayoutView",
            "align_content": null,
            "align_items": null,
            "align_self": null,
            "border": null,
            "bottom": null,
            "display": null,
            "flex": null,
            "flex_flow": null,
            "grid_area": null,
            "grid_auto_columns": null,
            "grid_auto_flow": null,
            "grid_auto_rows": null,
            "grid_column": null,
            "grid_gap": null,
            "grid_row": null,
            "grid_template_areas": null,
            "grid_template_columns": null,
            "grid_template_rows": null,
            "height": null,
            "justify_content": null,
            "justify_items": null,
            "left": null,
            "margin": null,
            "max_height": null,
            "max_width": null,
            "min_height": null,
            "min_width": null,
            "object_fit": null,
            "object_position": null,
            "order": null,
            "overflow": null,
            "overflow_x": null,
            "overflow_y": null,
            "padding": null,
            "right": null,
            "top": null,
            "visibility": null,
            "width": null
          }
        }
      }
    }
  },
  "cells": [
    {
      "cell_type": "code",
      "source": [
        "# Google Colab does not have with ipympl installed. This doesn't allow for\n",
        "# interactive figures. Decomment the following code if you wish to run this\n",
        "# notebook in Google Colab.\n",
        "\n",
        "'''\n",
        "\n",
        "!pip install -q ipympl\n",
        "\n",
        "from google.colab import output\n",
        "output.enable_custom_widget_manager()\n",
        "\n",
        "'''"
      ],
      "metadata": {
        "id": "tO4MUt4t78RF"
      },
      "execution_count": null,
      "outputs": []
    },
    {
      "cell_type": "code",
      "source": [
        "# If figures aren't showing, try %matplotlib notebook\n",
        "%matplotlib widget\n",
        "\n",
        "import numpy as np\n",
        "import matplotlib as mpl\n",
        "import matplotlib.pyplot as plt\n",
        "\n",
        "from ipywidgets import widgets, Layout, Label, HBox, VBox"
      ],
      "metadata": {
        "id": "19PfS8TjYph3"
      },
      "execution_count": null,
      "outputs": []
    },
    {
      "cell_type": "markdown",
      "source": [
        "# Bifurcations with one parameter"
      ],
      "metadata": {
        "id": "VXMmZ-8GYjTb"
      }
    },
    {
      "cell_type": "markdown",
      "source": [
        "## Prologue"
      ],
      "metadata": {
        "id": "GT4yJU0MsWil"
      }
    },
    {
      "cell_type": "markdown",
      "source": [
        "This is the first exercise of *Biophysics Assignment 1*. For the second exercise, see the notebook called *Biophysics_Assignment_1_E2*. References to the Notes section are written as [0]."
      ],
      "metadata": {
        "id": "9tO8WA1WsY38"
      }
    },
    {
      "cell_type": "markdown",
      "source": [
        "## Problem Statement"
      ],
      "metadata": {
        "id": "O6caIEotkmg6"
      }
    },
    {
      "cell_type": "markdown",
      "source": [
        "The following differential equations describe 4 (separate) dynamical systems with one state variable X and one parameter r.\n",
        "\n",
        "$X' = rX + X^3 - X^5$\n",
        "\n",
        "$X' = rX + X^2 - X^3$\n",
        "\n",
        "$X' = rX - \\frac{X}{1 + X^2}$\n",
        "\n",
        "$X' = X - r + \\frac{2 - X}{1 + X^2}$\n",
        "\n",
        "**Question**: Draw the bifurcation diagrams. Determine the equilibria and the type of bifurcations."
      ],
      "metadata": {
        "id": "QWXXQIhP4bm1"
      }
    },
    {
      "cell_type": "markdown",
      "source": [
        "## Solution"
      ],
      "metadata": {
        "id": "i1eqgeAmkp2-"
      }
    },
    {
      "cell_type": "markdown",
      "source": [
        "OUTLINE\n",
        "\n",
        "---\n",
        "\n",
        "In order to make the script as generic as possible, all functions are written inside a class [1].\n",
        "\n",
        "```\n",
        "class DynamicalSystem1D:\n",
        "    ...\n",
        "```\n",
        "Specific dynamical systems are implemented by creating a subclass containing a function *get_x_prime*, which returns $X'$ for a given $X$ and $r$.\n",
        "\n",
        "```\n",
        "# class DS1(DynamicalSystem1D):\n",
        "    ...\n",
        "\n",
        "    @staticmethod\n",
        "    def get_x_prime(x, r):\n",
        "        x_prime = r*x + x**3 - x**5\n",
        "        return x_prime\n",
        "\n",
        "    ...\n",
        "```\n",
        "The script can be easily extended to contain more dynamical systems in this manner."
      ],
      "metadata": {
        "id": "IBI6GX2H_VlX"
      }
    },
    {
      "cell_type": "markdown",
      "source": [
        "DYNAMICAL SYSTEM (1D)\n",
        "\n",
        "---\n",
        "\n",
        "To understand how equilibria are calculated, we must first dive deeper into the inner workings of the subclasses."
      ],
      "metadata": {
        "id": "HFarf9AgCfuh"
      }
    },
    {
      "cell_type": "markdown",
      "source": [
        "Subclasses contain another function called *get_equilibria_poly*, which turns the expression for $X'$ into a polynomial -- technically, its coefficients -- of which the (complex) roots correspond to the equilibria. This polynomial is calculated in the following manner."
      ],
      "metadata": {
        "id": "fjuEDRqdoMAb"
      }
    },
    {
      "cell_type": "markdown",
      "source": [
        "Take $X' = rX - \\frac{X}{1 + X^2}$ for example (this is equation 3). If $X = X_0$ is an equilibrium, the following must be true:\n",
        "\n",
        "$X' = rX_0 - \\frac{X_0}{1 + X_0^2} = 0$\n",
        "\n",
        "Notice however, that $X_0$ is also a root of the polynomial:\n",
        "\n",
        "$rX_0(1 + X_0^2) - X_0$\n",
        "\n",
        "This can be easily derived by setting the denominator of each term in the expression for $X'$ the same, and multiplying by this denominator."
      ],
      "metadata": {
        "id": "O_4zD6bwpXHU"
      }
    },
    {
      "cell_type": "markdown",
      "source": [
        "Now, back to the main class."
      ],
      "metadata": {
        "id": "lWUpLw4fqVhn"
      }
    },
    {
      "cell_type": "markdown",
      "source": [
        "In the *get_equilibria* function, the polynomial gets solved for a given $r$ via the function *np.roots* (the function returns complex equilibria) [2]. The function *plot_equilibria* takes in a minimal and maximal value of $r$ to plot, iterates over a range of $r$ values between these bounds and calculates the equilibria for each $r$."
      ],
      "metadata": {
        "id": "5zMNNw1oIl6n"
      }
    },
    {
      "cell_type": "markdown",
      "source": [
        "The *plot_equilibria* function takes in a minimal and maximal value of $r$ of which the (real) equilibria get plotted. The *size* parameter represents the size of the points on the scatter plot [3], but since the interval *rstep* between 2 consecutive values of $r$ is so small, the plot looks like a line."
      ],
      "metadata": {
        "id": "R3qbfMT9rPWf"
      }
    },
    {
      "cell_type": "code",
      "source": [
        "class DynamicalSystem1D:\n",
        "    # color constants\n",
        "    C_STABLE = 'blue'\n",
        "    C_UNSTABLE = 'red'\n",
        "\n",
        "    def get_equilibria(self, r):\n",
        "        p = self.get_equilibria_poly(r)\n",
        "        equilibria = np.real_if_close(np.roots(p))\n",
        "        return equilibria\n",
        "\n",
        "    # since equilibria are not exact, tol can't be made arbitrarily small\n",
        "    def is_stable(self, eq, r, tol=0.001):\n",
        "        return self.get_x_prime(eq + tol, r) < 0\n",
        "\n",
        "    def plot_x_prime(self, ax, r, xmin, xmax, xstep=0.0005):\n",
        "        X = np.arange(xmin, xmax, xstep)\n",
        "        X_prime = self.get_x_prime(X, r)\n",
        "        lines = ax.plot(X, X_prime, color='black', label=f'r = {r}')\n",
        "\n",
        "        # plot decoration\n",
        "        ax.set_xlabel('X')\n",
        "        ax.set_ylabel('X\\'')\n",
        "        ax.set_title(self.EQUATION)\n",
        "        ax.legend()\n",
        "\n",
        "        max_abs = np.max(np.abs(X_prime))\n",
        "        ax.set_xlim(xmin, xmax)\n",
        "        ax.set_ylim(-max_abs, max_abs)\n",
        "\n",
        "        return lines\n",
        "\n",
        "    # analogous to plot_equilibria (see further)\n",
        "    def plot_equilibria_fixed_r(self, ax, r):\n",
        "        X = self.get_equilibria(r)\n",
        "        X_real = X[np.imag(X) == 0].real\n",
        "\n",
        "        stable = self.is_stable(X_real, r)\n",
        "        C = np.full(X_real.size, self.C_UNSTABLE, dtype=str)\n",
        "        C[stable] = self.C_STABLE\n",
        "        scatter = ax.scatter(X_real, np.zeros(X_real.size), c=C)\n",
        "        return scatter\n",
        "\n",
        "    def plot_equilibria(self, ax, rmin, rmax, rstep, size=0.1):\n",
        "        R_1D = np.arange(rmin, rmax, rstep)\n",
        "\n",
        "        # an array of the same size as X is created to call plt.scatter once\n",
        "        R = np.full((self.MAX_EQUILIBRIA, R_1D.size), R_1D)\n",
        "        X = np.zeros((self.MAX_EQUILIBRIA, R_1D.size), dtype=complex)\n",
        "\n",
        "        for i, r in enumerate(R_1D):\n",
        "            X[:, i] = self.get_equilibria(r)\n",
        "\n",
        "        # an indexing array, True if the equilbrium is real\n",
        "        real_idx = (np.imag(X) == 0)\n",
        "        R_real = R[real_idx].real\n",
        "        X_real = X[real_idx].real\n",
        "\n",
        "        # an indexing array, True is the equilibrium is stable\n",
        "        stable = self.is_stable(X_real, R_real)\n",
        "        C = np.full(X_real.size, self.C_UNSTABLE, dtype=str)\n",
        "        C[stable] = self.C_STABLE\n",
        "        scatter = ax.scatter(R_real, X_real, size, C)\n",
        "\n",
        "        return scatter\n",
        "\n",
        "    def plot_stability_arrows(self, ax, R):\n",
        "        quivers = []\n",
        "        for r in R:\n",
        "            X = self.get_equilibria(r)\n",
        "            X_real = X[np.imag(X) == 0].real\n",
        "\n",
        "            for x in X_real:\n",
        "                stable = self.is_stable(x, r)\n",
        "                pivot = 'tip' if stable else 'tail'\n",
        "                quivers.append(\n",
        "                    ax.quiver(\n",
        "                        r, x, 0, 1, color='black', pivot=pivot,\n",
        "                        width=0.005, minlength=3\n",
        "                    )\n",
        "                )\n",
        "                quivers.append(\n",
        "                    ax.quiver(\n",
        "                        r, x, 0, -1, color='black', pivot=pivot,\n",
        "                        width=0.005, minlength=3\n",
        "                    )\n",
        "                )\n",
        "\n",
        "        return quivers\n",
        "\n",
        "    # decorates the bifurcation diagram\n",
        "    def set_plot_attributes(self, ax, rmin, rmax, xmin, xmax, title=None):\n",
        "        ax.set_xlabel('r')\n",
        "        ax.set_ylabel('equilibria X')\n",
        "        ax.set_title(title)\n",
        "        ax.set_xlim(rmin, rmax)\n",
        "        ax.set_ylim(xmin, xmax)\n",
        "\n",
        "        # set labels (stable and unstable)\n",
        "        label_lines = [\n",
        "            mpl.lines.Line2D([0], [0], color=self.C_STABLE),\n",
        "            mpl.lines.Line2D([0], [0], color=self.C_UNSTABLE)\n",
        "        ]\n",
        "        ax.legend(label_lines, ['stable', 'unstable'], loc='upper left')\n",
        "\n",
        "        return"
      ],
      "metadata": {
        "id": "-ENNBmZPkUd6"
      },
      "execution_count": null,
      "outputs": []
    },
    {
      "cell_type": "markdown",
      "source": [
        "SUBCLASSES\n",
        "\n",
        "---\n",
        "\n",
        "The following block of code contains the subclasses describing the 4 equations. Besides the previously mentioned functions, they contain some constants as well, such as nicely chosen bounds for the plots."
      ],
      "metadata": {
        "id": "PBfox27GVdy3"
      }
    },
    {
      "cell_type": "code",
      "source": [
        "class DS1(DynamicalSystem1D):\n",
        "    MAX_EQUILIBRIA = 5\n",
        "    EQUATION = f'$X\\' = rX + X^3 - X^5$'\n",
        "    R_BOUNDS = -0.75, 1\n",
        "    X_BOUNDS = -1.8, 1.8\n",
        "\n",
        "    @staticmethod\n",
        "    def get_x_prime(x, r):\n",
        "        x_prime = r*x + x**3 - x**5\n",
        "        return x_prime\n",
        "\n",
        "    @staticmethod\n",
        "    def get_equilibria_poly(r):\n",
        "        p = np.array([-1, 0, 1, 0, r, 0])\n",
        "        return p\n",
        "\n",
        "class DS2(DynamicalSystem1D):\n",
        "    MAX_EQUILIBRIA = 3\n",
        "    EQUATION = f'$X\\' = rX + X^2 - X^3$'\n",
        "    R_BOUNDS = -0.5, 1.6\n",
        "    X_BOUNDS = -1.2, 2.2\n",
        "\n",
        "    @staticmethod\n",
        "    def get_x_prime(x, r):\n",
        "        x_prime = r*x + x**2 - x**3\n",
        "        return x_prime\n",
        "\n",
        "    @staticmethod\n",
        "    def get_equilibria_poly(r):\n",
        "        p = np.array([-1, 1, r, 0])\n",
        "        return p\n",
        "\n",
        "class DS3(DynamicalSystem1D):\n",
        "    MAX_EQUILIBRIA = 3\n",
        "    EQUATION = f'$X\\'$' + r'$ = rX - \\frac{X}{1 + X^2}$'\n",
        "    R_BOUNDS = -0.4, 1.25\n",
        "    X_BOUNDS = -4, 4\n",
        "\n",
        "    @staticmethod\n",
        "    def get_x_prime(x, r):\n",
        "        x_prime = r*x - x/(1 + x**2)\n",
        "        return x_prime\n",
        "\n",
        "    @staticmethod\n",
        "    def get_equilibria_poly(r):\n",
        "        p = np.array([r, 0, r - 1, 0])\n",
        "        return p\n",
        "\n",
        "class DS4(DynamicalSystem1D):\n",
        "    MAX_EQUILIBRIA = 3\n",
        "    EQUATION = f'$X\\'$' + r'$ = X - r + \\frac{2 - X}{1 + X^2}$'\n",
        "    R_BOUNDS = 1.4, 2.2\n",
        "    X_BOUNDS = -1, 2.8\n",
        "\n",
        "    @staticmethod\n",
        "    def get_x_prime(x, r):\n",
        "        x_prime = x - r + (2 - x)/(1 + x**2)\n",
        "        return x_prime\n",
        "\n",
        "    @staticmethod\n",
        "    def get_equilibria_poly(r):\n",
        "        p = np.array([1, -r, 0, 2 - r])\n",
        "        return p"
      ],
      "metadata": {
        "id": "cibIgMydi4fP"
      },
      "execution_count": null,
      "outputs": []
    },
    {
      "cell_type": "markdown",
      "source": [
        "PLOTTING\n",
        "\n",
        "---"
      ],
      "metadata": {
        "id": "tW0zCc6ltdzs"
      }
    },
    {
      "cell_type": "markdown",
      "source": [
        "Below are some lists to make the plot interactive via dropdown menus, buttons etc. The dictionary *config* keeps track of what is currently shown on the plot."
      ],
      "metadata": {
        "id": "0sELRhbnqtA7"
      }
    },
    {
      "cell_type": "code",
      "source": [
        "DS = [\n",
        "    ('Equation 1', DS1),\n",
        "    ('Equation 2', DS2),\n",
        "    ('Equation 3', DS3),\n",
        "    ('Equation 4', DS4)\n",
        "]\n",
        "\n",
        "RS = [('Low', 0.001), ('Medium', 0.0005), ('High', 0.0001)] # resolution\n",
        "\n",
        "n_stability_arrows = 3"
      ],
      "metadata": {
        "id": "satErAo28pF_"
      },
      "execution_count": null,
      "outputs": []
    },
    {
      "cell_type": "code",
      "source": [
        "# keep track of what's plotted\n",
        "config = {\n",
        "    'lines': [],\n",
        "    'ds': DS[0][1],\n",
        "    'resolution': RS[0][1],\n",
        "    'arrows': True,\n",
        "    'fixed_r': 0.5\n",
        "}\n",
        "\n",
        "def update_config(ds=None, resolution=None, arrows=None, fixed_r=None):\n",
        "    if ds != config['ds']:\n",
        "        config['ds'] = ds\n",
        "    if resolution != config['resolution']:\n",
        "        config['resolution'] = resolution\n",
        "    if arrows != config['arrows']:\n",
        "        config['arrows'] = arrows\n",
        "    if fixed_r != config['fixed_r']:\n",
        "        config['fixed_r'] = fixed_r\n",
        "    return"
      ],
      "metadata": {
        "id": "YL1H9d858T8k"
      },
      "execution_count": null,
      "outputs": []
    },
    {
      "cell_type": "markdown",
      "source": [
        "The following code cell contains the main plot functions."
      ],
      "metadata": {
        "id": "Sfqq9oMgrP1e"
      }
    },
    {
      "cell_type": "code",
      "source": [
        "def plot_bifurcation(ds, resolution, arrows):\n",
        "    config['lines'].append(\n",
        "        ds().plot_equilibria(\n",
        "            axs[0], ds().R_BOUNDS[0], ds().R_BOUNDS[1], resolution\n",
        "        )\n",
        "    )\n",
        "\n",
        "    if arrows:\n",
        "        rrange = ds().R_BOUNDS[1] - ds().R_BOUNDS[0]\n",
        "\n",
        "        # array of r values to plot stability arrows\n",
        "        R = np.linspace(\n",
        "            ds().R_BOUNDS[0] + rrange/10,\n",
        "            ds().R_BOUNDS[1] - rrange/10,\n",
        "            n_stability_arrows\n",
        "        )\n",
        "\n",
        "        config['lines'].append(ds().plot_stability_arrows(axs[0], R))\n",
        "\n",
        "    ds().set_plot_attributes(\n",
        "        axs[0],\n",
        "        rmin=ds().R_BOUNDS[0],\n",
        "        rmax=ds().R_BOUNDS[1],\n",
        "        xmin=ds().X_BOUNDS[0],\n",
        "        xmax=ds().X_BOUNDS[1],\n",
        "        title=f'Bifurcation diagram'\n",
        "    )\n",
        "\n",
        "    return\n",
        "\n",
        "def plot_x_prime(ds, fixed_r):\n",
        "    config['lines'].append(\n",
        "        axs[0].axvline(fixed_r, color='black', linestyle='dashed')\n",
        "    )\n",
        "    config['lines'].append(\n",
        "        axs[1].axhline(color='black', linestyle='dashed')\n",
        "    )\n",
        "    config['lines'].append(\n",
        "        ds().plot_x_prime(axs[1], fixed_r, ds().X_BOUNDS[0], ds().X_BOUNDS[1])\n",
        "    )\n",
        "    config['lines'].append(\n",
        "        ds().plot_equilibria_fixed_r(axs[1], fixed_r)\n",
        "    )\n",
        "\n",
        "    return"
      ],
      "metadata": {
        "id": "GqlLHoZp2Po8"
      },
      "execution_count": null,
      "outputs": []
    },
    {
      "cell_type": "code",
      "source": [
        "def plot_ds(ds, resolution, arrows, fixed_r):\n",
        "    plot_bifurcation(ds, resolution, arrows)\n",
        "    plot_x_prime(ds, fixed_r)\n",
        "    return"
      ],
      "metadata": {
        "id": "PdM3aP5VAEuM"
      },
      "execution_count": null,
      "outputs": []
    },
    {
      "cell_type": "code",
      "source": [
        "def clear_plot():\n",
        "    for line in config['lines']:\n",
        "        try:\n",
        "            line.remove()\n",
        "        except:\n",
        "            [l.remove() for l in line]\n",
        "\n",
        "    config['lines'] = []\n",
        "    return\n",
        "\n",
        "def update_plot(ds, resolution, arrows, fixed_r):\n",
        "    clear_plot()\n",
        "    plot_ds(ds, resolution, arrows, fixed_r)\n",
        "    update_config(ds, resolution, arrows, fixed_r)\n",
        "    return"
      ],
      "metadata": {
        "id": "CAYiL5XG-cit"
      },
      "execution_count": null,
      "outputs": []
    },
    {
      "cell_type": "markdown",
      "source": [
        "Below are handlers for the widgets."
      ],
      "metadata": {
        "id": "Fa2JsGr-sPR1"
      }
    },
    {
      "cell_type": "code",
      "source": [
        "def on_ds_change(source):\n",
        "    ds = source['new']\n",
        "    update_plot(ds, config['resolution'], config['arrows'], config['fixed_r'])\n",
        "    return\n",
        "\n",
        "def on_rs_change(source):\n",
        "    rs = source['new']\n",
        "    update_plot(config['ds'], rs, config['arrows'], config['fixed_r'])\n",
        "    return\n",
        "\n",
        "def on_arrows_change(source):\n",
        "    arrows = source['new']\n",
        "    update_plot(config['ds'], config['resolution'], arrows, config['fixed_r'])\n",
        "    return\n",
        "\n",
        "def on_fixed_r_change(source):\n",
        "    r = round(source['new'], 2)\n",
        "    update_plot(config['ds'], config['resolution'], config['arrows'], r)\n",
        "    return"
      ],
      "metadata": {
        "id": "fwrXuL2PT_id"
      },
      "execution_count": null,
      "outputs": []
    },
    {
      "cell_type": "code",
      "source": [
        "# dropdown menu to choose which equation to plot\n",
        "ds_dropdown = widgets.Dropdown(\n",
        "    options=DS,\n",
        "    value=config['ds'],\n",
        "    description='',\n",
        "    button_style='info',\n",
        "    layout=Layout(width='180px', padding='2px'),\n",
        "    disabled=False,\n",
        "    continuous_update=False\n",
        ")\n",
        "\n",
        "# buttons to choose the interval between consecutive r values\n",
        "resolution_btns = widgets.ToggleButtons(\n",
        "    options=RS,\n",
        "    value=config['resolution'],\n",
        "    description='',\n",
        "    button_style='info',\n",
        "    layout=Layout(padding='2px'),\n",
        "    disabled=False,\n",
        "    continuous_update=False\n",
        ")\n",
        "\n",
        "# checkbox to display stability arrows\n",
        "arrows_checkbox = widgets.Checkbox(\n",
        "    value=config['arrows'],\n",
        "    description='Display Stability Arrows',\n",
        "    layout=Layout(width='180px'),\n",
        "    indent=False,\n",
        "    disabled=False\n",
        ")\n",
        "\n",
        "# slider for plot of X'\n",
        "r_slider = widgets.FloatSlider(\n",
        "    value=config['fixed_r'],\n",
        "    min=-1,\n",
        "    max=2.5,\n",
        "    step=0.05,\n",
        "    description='r',\n",
        "    layout=Layout(width='400px'),\n",
        "    slider_color='blue',\n",
        "    disabled=False,\n",
        "    continuous_update=False\n",
        ")\n",
        "\n",
        "# add listeners to widgets\n",
        "ds_dropdown.observe(on_ds_change, names='value')\n",
        "resolution_btns.observe(on_rs_change, names='value')\n",
        "arrows_checkbox.observe(on_arrows_change, names='value')\n",
        "r_slider.observe(on_fixed_r_change, names='value')"
      ],
      "metadata": {
        "id": "5M9YPyTvSLA4"
      },
      "execution_count": null,
      "outputs": []
    },
    {
      "cell_type": "code",
      "source": [
        "fig, axs = plt.subplots(ncols=2, figsize=(10, 5))\n",
        "fig.suptitle('Bifurcations with one parameter')\n",
        "plt.tight_layout(pad=2)\n",
        "\n",
        "plot_ds(\n",
        "    config['ds'],\n",
        "    config['resolution'],\n",
        "    config['arrows'],\n",
        "    config['fixed_r']\n",
        ")\n",
        "\n",
        "# widgets\n",
        "rs_label = Label(\n",
        "    'Resolution settings (left plot only).\\\n",
        "    \\'Low\\' is recommended for fast plotting.',\n",
        ")\n",
        "\n",
        "VBox([\n",
        "    HBox([ds_dropdown, resolution_btns]),\n",
        "    HBox([arrows_checkbox, rs_label, r_slider])\n",
        "])"
      ],
      "metadata": {
        "colab": {
          "base_uri": "https://localhost:8080/",
          "height": 653,
          "referenced_widgets": [
            "f42a1b4681294f2abf7b0ebd8592906e",
            "026d03e8451847c0b827e30f481a7f40",
            "700c011f9d654437b6269cebda4e45ce",
            "33a4904217c24766824f5898fcc5c043",
            "afefeca134314770933fdc88326bc82f",
            "e67a10cd9c8948c0a6560b323abb4e45",
            "f807a3b4a42147ae831cecfe21b29820",
            "9a9159bd42dd41e382bff35318b2a312",
            "323153926c2843038bbd9cb6cc067ea0",
            "90a4bda9c978401ab0738b5309a27d8d",
            "94affcddb4cc42efaf76b2ae3a5a306a",
            "705aece465844f0491d07ed354fa8afd",
            "550458219beb41a6836dd41f4dfbb84d",
            "bcfc35ca40c2465da815e72a4504542f",
            "6e36d3dc0f9f4bce83fd71eef4c904d6",
            "f2fded71dc6140d6a9e707d91f9eaf23",
            "e2ed9da76698498196cfa8e897d56e56",
            "3432d9491bb24bc997c34dc8c76379f4",
            "0692e81059734f2da9952f73486623fc",
            "9646521bc01547cc8b836b2e32957ba6",
            "fd1a9efbfaf94cf7bfa109a2243508ec",
            "b18bdfd6423b4a34a1d688aff8729e85",
            "e12f3a193c8d40fe9eb463330b67735a",
            "797786e4a45f46db97bffde101e025d1",
            "b1e74f38ae1d4542a9a049d961db867b"
          ]
        },
        "id": "PwKIkxNzByXD",
        "outputId": "59b8383a-9b8f-4e41-f9e7-d64e1f93fb66"
      },
      "execution_count": null,
      "outputs": [
        {
          "output_type": "display_data",
          "data": {
            "text/plain": [
              "VBox(children=(HBox(children=(Dropdown(layout=Layout(padding='2px', width='180px'), options=(('Equation 1', <c…"
            ],
            "application/vnd.jupyter.widget-view+json": {
              "version_major": 2,
              "version_minor": 0,
              "model_id": "f42a1b4681294f2abf7b0ebd8592906e"
            }
          },
          "metadata": {
            "application/vnd.jupyter.widget-view+json": {
              "colab": {
                "custom_widget_manager": {
                  "url": "https://ssl.gstatic.com/colaboratory-static/widgets/colab-cdn-widget-manager/b3e629b1971e1542/manager.min.js"
                }
              }
            }
          }
        },
        {
          "output_type": "display_data",
          "data": {
            "text/plain": [
              "Canvas(toolbar=Toolbar(toolitems=[('Home', 'Reset original view', 'home', 'home'), ('Back', 'Back to previous …"
            ],
            "image/png": "[encoded data removed]",
            "text/html": [
              "\n",
              "            <div style=\"display: inline-block;\">\n",
              "                <div class=\"jupyter-widgets widget-label\" style=\"text-align: center;\">\n",
              "                    Figure\n",
              "                </div>\n",
              "                <img src='data:image/png;base64,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' width=1000.0/>\n",
              "            </div>\n",
              "        "
            ],
            "application/vnd.jupyter.widget-view+json": {
              "version_major": 2,
              "version_minor": 0,
              "model_id": "b18bdfd6423b4a34a1d688aff8729e85"
            }
          },
          "metadata": {
            "application/vnd.jupyter.widget-view+json": {
              "colab": {
                "custom_widget_manager": {
                  "url": "https://ssl.gstatic.com/colaboratory-static/widgets/colab-cdn-widget-manager/b3e629b1971e1542/manager.min.js"
                }
              }
            }
          }
        }
      ]
    },
    {
      "cell_type": "markdown",
      "source": [
        "The figure above displays the bifurcation diagram (left). Arrows are plotted to indicate the stability of equilibria, but this is also reflected their color. The dashed line depicts the 'slice' of which $X'$ is plotted (right). The equilibria correspond to the zeros of $X'$ and are marked in color, again showing the stability. Equilibria are stable if the slope of $X'$ at that point is negative."
      ],
      "metadata": {
        "id": "_mfS7phEsxtr"
      }
    },
    {
      "cell_type": "markdown",
      "source": [
        "You can choose which equation is displayed via the dropdown menu. Resolution settings can be adjusted for the bifurcation diagram (this changes the interval between consecutive values of $r$). Stability arrows can also be turned off. Finally, the $r$ value for which $X'$ is displayed can be changed via a slider."
      ],
      "metadata": {
        "id": "b9QUKrFYuoGL"
      }
    },
    {
      "cell_type": "markdown",
      "source": [
        "EPITOME\n",
        "\n",
        "---"
      ],
      "metadata": {
        "id": "lI33cWWFvWiv"
      }
    },
    {
      "cell_type": "markdown",
      "source": [
        "Equation 1\n",
        "\n",
        "---\n",
        "\n",
        "There are 2 saddle nodes at $r = -0.25$: a stable and unstable equilibrium diverge out of nowhere. The unstable equilibria converge to a pitchfork bifurcation at $r = 0$, after which the stable equilibrium $X = 0$ switches to unstable.\n",
        "\n",
        "Each bifurcation comes with a tipping point. For the saddle nodes, if $r$ is reduced only slightly, the equilibrium jumps to $X = 0$. Also, when $r$ is increased only slightly at $r = 0$, the equilibrium jumps either up or down.\n",
        "\n",
        "For low values of $r$ ($< -0.25$), there is only the equilibrium $X = 0$. This then increases to no less than 5 equilibria at $r = -0.25$ and finally settles down to 3 equilibria at $r = 0$."
      ],
      "metadata": {
        "id": "kh3F6BBHveVq"
      }
    },
    {
      "cell_type": "markdown",
      "source": [
        "Equation 2\n",
        "\n",
        "---\n",
        "\n",
        "Again, there exists a saddle node bifurcation at $r = -0.25$. At $r = 0$, there is a transcritical bifurcation where 2 equilibria collide and exchange stability. $X = 0$ becomes unstable at $r = 0$.\n",
        "\n",
        "$r = -0.25$ is also a tipping point, in the sense that if $r$ is reduced only slightly, the equilibrium jumps to $X = 0$.\n",
        "\n",
        "It starts of with 1 equilibrium $X = 0$ and increases to 3 equilibria at $r = -0.25$."
      ],
      "metadata": {
        "id": "irp7JhrGxuXq"
      }
    },
    {
      "cell_type": "markdown",
      "source": [
        "Equation 3\n",
        "\n",
        "---\n",
        "\n",
        "There is a pitchfork bifurcation at $r = 1$.\n",
        "\n",
        "For $r < 0$, $X = 0$ is the only equilibrium (and it's stable). At $r = 0$ however, 2 unstable equilibria arise from $\\pm \\infty$, to converge again to 1 equilibrium at $r = 1$ (this time unstable)."
      ],
      "metadata": {
        "id": "CHqzhIPSzkqv"
      }
    },
    {
      "cell_type": "markdown",
      "source": [
        "Equation 4\n",
        "\n",
        "---\n",
        "\n",
        "Equation 4 gives rise to 2 saddle nodes at $r = 1.5$ and $r = 2$.\n",
        "\n",
        "These values of $r$ could also be considered as tipping points, where a slight modification in $r$ results in no stable equilibrium at all.\n",
        "\n",
        "For low values of $r$ ($< 1.5$), there exists one unstable equilibrium. When $1.5 < r < 2$, three equilibria exist, of which the middle one is stable. Then again at $r > 2$, only one unstable equilibrium exists."
      ],
      "metadata": {
        "id": "ZFpVPPRX1S3n"
      }
    },
    {
      "cell_type": "markdown",
      "source": [
        "# Notes"
      ],
      "metadata": {
        "id": "VOuMsJCW4k_K"
      }
    },
    {
      "cell_type": "markdown",
      "source": [
        "[0] This is an example note.\n",
        "\n",
        "---\n",
        "\n",
        "[1] This means the code cells can't be split into smaller parts. Therefore, a large portion of the explanation is written at once.\n",
        "\n",
        "---\n",
        "\n",
        "[2] The reason we convert $X'$ to a polynomial and use *np.roots* to calculate the equilibria, is the fact that *np.roots* is way faster than using *sp.solve* on the original $X'$ (about 15 times faster).\n",
        "\n",
        "Note that, we could have also calculated the equilibria $X_0(r)$ as a function of $r$ via *sp.solve* (and turned it into an actual function with *sp.lamdify*). This would be faster than iterating over an array of $r$ and repeatedly calculating the equilibria. Not all equations have analytical solutions $X_0(r)$ however, and so to keep the script as expandable as possible, it was done in the way it is.\n",
        "\n",
        "For these equations we could have also calculated the inverse $r(X_0)$, but again, this wasn't done to keep everything general.\n",
        "\n",
        "---\n",
        "\n",
        "[3] A scatter plot is used instead of a normal plot with lines, because high and low valued equilibria are sometimes switched in *np.roots*' output. This resulted in the occasional horrendous vertical line."
      ],
      "metadata": {
        "id": "qiFahfTZ5WAk"
      }
    }
  ]
}